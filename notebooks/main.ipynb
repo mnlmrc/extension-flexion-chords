{
 "cells": [
  {
   "cell_type": "code",
   "id": "5ea3e8b84bd1d631",
   "metadata": {
    "ExecuteTime": {
     "end_time": "2024-08-30T20:25:42.595202Z",
     "start_time": "2024-08-30T20:25:42.447481Z"
    }
   },
   "source": [
    "import globals as gl\n",
    "from main import main\n",
    "import matplotlib.pyplot as plt\n",
    "from matplotlib.lines import Line2D\n",
    "import numpy as np\n",
    "import warnings\n",
    "import pandas as pd\n",
    "import seaborn as sns\n",
    "from plot import decor, add_significance_brackets, add_significance_asterisks\n",
    "import os\n",
    "warnings.filterwarnings(\"ignore\")\n",
    "\n",
    "import matplotlib\n",
    "print(f'matplotlib backend: {matplotlib.get_backend()}')\n"
   ],
   "outputs": [
    {
     "name": "stdout",
     "output_type": "stream",
     "text": [
      "Base directory found: /Users/mnlmrc/Library/CloudStorage/GoogleDrive-mnlmrc@unife.it/My Drive/UWO/ExtFlexChord\n",
      "matplotlib backend: module://matplotlib_inline.backend_inline\n"
     ]
    }
   ],
   "execution_count": 1
  },
  {
   "cell_type": "markdown",
   "id": "7b973cfa-ba5a-40e9-b1ac-9d55423f0eca",
   "metadata": {},
   "source": [
    "# **Success rate**"
   ]
  },
  {
   "cell_type": "code",
   "id": "c3cf2187-fad7-4a88-8bb8-de29260a61ce",
   "metadata": {
    "ExecuteTime": {
     "end_time": "2024-08-30T20:25:43.396759Z",
     "start_time": "2024-08-30T20:25:43.246061Z"
    }
   },
   "source": [
    "experiment = 'efc2'\n",
    "\n",
    "metrics = pd.read_csv(os.path.join(gl.baseDir, experiment, 'metrics.csv'))\n",
    "success = metrics.groupby(['subNum', 'chordID', 'day', 'chord'])['trialPoint'].mean().reset_index()\n",
    "\n",
    "fig, axs = plt.subplots(figsize=(3, 5))\n",
    "\n",
    "sns.boxplot(success, ax=axs, x='day', y='trialPoint', hue='chord', dodge=True, palette=['blue', 'red'], showfliers=False)\n",
    "\n",
    "# axs.legend(handles=custom_handles, loc='lower right', ncol=2)\n",
    "\n",
    "axs.set_ylim([.5, 1.1])\n",
    "axs.axhline(1, color='k', lw=.8)\n",
    "\n",
    "axs.spines[['right', 'top']].set_visible(False)\n",
    "\n",
    "axs.set_title('Success rate')\n",
    "axs.set_ylabel('success')\n",
    "axs.set_xlabel('day')\n"
   ],
   "outputs": [
    {
     "data": {
      "text/plain": [
       "Text(0.5, 0, 'day')"
      ]
     },
     "execution_count": 2,
     "metadata": {},
     "output_type": "execute_result"
    },
    {
     "data": {
      "text/plain": [
       "<Figure size 300x500 with 1 Axes>"
      ],
      "image/png": "[encoded data removed]"
     },
     "metadata": {},
     "output_type": "display_data"
    }
   ],
   "execution_count": 2
  },
  {
   "cell_type": "markdown",
   "id": "90dc6d17-d53c-4966-8a65-ffd52d5f71ae",
   "metadata": {},
   "source": [
    "# **Reaction time**"
   ]
  },
  {
   "cell_type": "code",
   "id": "54a2e208-b5e6-4607-bb4c-da4a6fe3f151",
   "metadata": {},
   "source": [
    "fig, axs = plt.subplots()\n",
    "fig, axs, custom_handles = main('PLOT:metric_repetition', experiment, metric='RT', fig=fig, axs=axs)\n",
    "\n",
    "axs.legend(handles=custom_handles, loc='upper right', ncol=2)\n",
    "\n",
    "axs.set_title('Reaction time')\n",
    "axs.set_ylabel('RT (s)')\n",
    "axs.set_xlabel('day')"
   ],
   "outputs": [],
   "execution_count": null
  },
  {
   "cell_type": "markdown",
   "id": "8fe9be6f-25df-4836-886e-a0269fdd07b9",
   "metadata": {},
   "source": [
    "# **Example force patterns for trained and untrained chords**\n",
    "In trained chords, isometric forces produced by each finger become more simultaneous after training. Chord execution also becomes faster. Below are two trials taken from the same participant performing chord 91211 (thumb: still, index:extended, middle: flexed, ring: extended, pinkie: exptened) on day 1 (before training) and day 5 (after training).  "
   ]
  },
  {
   "cell_type": "code",
   "id": "1c6f5fceff89e996",
   "metadata": {},
   "source": [
    "participant_id = 'subj100'\n",
    "session = 'testing'\n",
    "day = '1'\n",
    "ntrial = 1\n",
    "\n",
    "fig, axs = plt.subplots(1, 2, sharey=True)\n",
    "_, ax, chordID, day, chord = main('PLOT:force_in_trial', experiment, participant_id, session, day, ntrial=ntrial, fig=fig, axs=axs[0])\n",
    "ax.set_ylabel('force (N)')\n",
    "ax.set_title(f'{chordID}, day{day}, {chord}')\n",
    "\n",
    "ax.spines[['right', 'top']].set_visible(False)\n",
    "\n",
    "day = '5'\n",
    "ntrial = 41\n",
    "_, ax, chordID, day, chord = main('PLOT:force_in_trial', experiment, participant_id, session, day, ntrial=ntrial, fig=fig, axs=axs[1])\n",
    "ax.set_title(f'{chordID}, day{day}, {chord}')\n",
    "\n",
    "ax.spines[['right', 'top', 'left']].set_visible(False)\n",
    "ax.tick_params(axis='y', which='both', left=False, labelleft=False)\n",
    "\n",
    "fig.legend(gl.channels['force'], loc='upper center', ncol=5)\n",
    "\n",
    "fig.supxlabel('time (s)')"
   ],
   "outputs": [],
   "execution_count": null
  },
  {
   "cell_type": "markdown",
   "id": "08a5bcb2-8eb5-4312-9c83-1a04803d79c4",
   "metadata": {},
   "source": [
    "In untrained chords, execution improves slightly, but remanins less simultaneous and slower compared to trained chords. Below are two example trials of the untrained chord 21291 (thumb: flexed, index:extended, middle: flexed, ring: still, pinkie: extended) on day 1 and day 5 performed by the same participant."
   ]
  },
  {
   "cell_type": "code",
   "id": "initial_id",
   "metadata": {
    "jupyter": {
     "source_hidden": true
    }
   },
   "source": [
    "experiment = 'efc2'\n",
    "participant_id = 'subj100'\n",
    "session = 'testing'\n",
    "day = '1'\n",
    "ntrial = 9\n",
    "\n",
    "fig, axs = plt.subplots(1, 2, sharey=True)\n",
    "_, ax, chordID, day, chord = main('PLOT:force_in_trial', experiment, participant_id, session, day, ntrial=ntrial, fig=fig, axs=axs[0])\n",
    "ax.set_ylabel('force (N)')\n",
    "ax.set_title(f'{chordID}, day{day}, {chord}')\n",
    "\n",
    "ax.spines[['right', 'top']].set_visible(False)\n",
    "\n",
    "day = '5'\n",
    "ntrial = 34\n",
    "_, ax, chordID, day, chord = main('PLOT:force_in_trial', experiment, participant_id, session, day, ntrial=ntrial, fig=fig, axs=axs[1])\n",
    "ax.set_title(f'{chordID}, day{day}, {chord}')\n",
    "\n",
    "ax.spines[['right', 'top', 'left']].set_visible(False)\n",
    "ax.tick_params(axis='y', which='both', left=False, labelleft=False)\n",
    "\n",
    "fig.legend(gl.channels['force'], loc='upper center', ncol=5)\n",
    "\n",
    "fig.supxlabel('time (s)')"
   ],
   "outputs": [],
   "execution_count": null
  },
  {
   "cell_type": "markdown",
   "id": "f12e6a8a-55f3-48e1-8339-8c3672904253",
   "metadata": {},
   "source": [
    "# **Execution time**"
   ]
  },
  {
   "cell_type": "code",
   "id": "c30e9ac7-6b7e-4bc6-b113-855975c28dcc",
   "metadata": {
    "jupyter": {
     "source_hidden": true
    }
   },
   "source": [
    "fig, axs = plt.subplots()\n",
    "fig, axs, custom_handles = main('PLOT:metric_repetition', experiment, metric='ET', fig=fig, axs=axs)\n",
    "\n",
    "axs.legend(handles=custom_handles, loc='upper right', ncol=2)\n",
    "\n",
    "axs.set_title('Execution time')\n",
    "axs.set_ylabel('ET (s)')\n",
    "axs.set_xlabel('day')"
   ],
   "outputs": [],
   "execution_count": null
  },
  {
   "cell_type": "markdown",
   "id": "b6c644b0-cc7f-4bf3-a09f-d3d094587628",
   "metadata": {},
   "source": [
    "# **Mean deviation**"
   ]
  },
  {
   "cell_type": "code",
   "id": "ef656f84-232b-420d-b8fe-b509121c5b60",
   "metadata": {},
   "source": [
    "metrics = pd.read_csv(os.path.join(gl.baseDir, experiment, 'metrics.csv'))\n",
    "\n",
    "fig, axs = plt.subplots()\n",
    "\n",
    "offset = 5\n",
    "metrics['offset'] = metrics['repetition'] + metrics['day'] * offset\n",
    "\n",
    "sns.lineplot(data=metrics[metrics['chord'] == 'trained'], ax=axs, x='offset', y='MD', hue='day', errorbar='se',\n",
    "             palette=['red'] * 5, marker='o', markeredgewidth=0, err_kws={'linewidth': 0})\n",
    "sns.lineplot(data=metrics[metrics['chord'] == 'untrained'], ax=axs, x='offset', y='MD', hue='day', errorbar='se',\n",
    "         palette=['blue'] * 2, marker='o', markeredgewidth=0, err_kws={'linewidth': 0})\n",
    "axs.set_xticks(np.linspace(8, 28, 5))\n",
    "axs.set_xticklabels(np.linspace(1, 5, 5, dtype=int))\n",
    "\n",
    "custom_handles = [\n",
    "Line2D([0], [0], marker='o', color='blue', markerfacecolor='blue', label='untrained'),\n",
    "Line2D([0], [0], marker='o', color='red', markerfacecolor='red', label='trained')       \n",
    "            ]\n",
    "\n",
    "axs.legend(handles=custom_handles, loc='upper right', ncol=2)\n",
    "\n",
    "axs.set_title('Mean deviation')\n",
    "axs.set_ylabel('MD')\n",
    "axs.set_xlabel('day')\n"
   ],
   "outputs": [],
   "execution_count": null
  },
  {
   "cell_type": "code",
   "id": "141f723a40b75dc1",
   "metadata": {},
   "source": [
    "fig, axs = plt.subplots()\n",
    "\n",
    "offset = 500\n",
    "metrics['TN_tot'] = metrics['TN'] + 50 * (metrics['BN'] - 1)\n",
    "metrics['offset'] = metrics['TN_tot'] + metrics['day'] * offset\n",
    "\n",
    "sns.lineplot(data=metrics[metrics['chord'] == 'trained'], ax=axs, x='offset', y='MD', hue='day', errorbar='se',\n",
    "             palette=['red'] * 5, markeredgewidth=0, err_kws={'linewidth': 0})\n",
    "sns.lineplot(data=metrics[metrics['chord'] == 'untrained'], ax=axs, x='offset', y='MD', hue='day', errorbar='se',\n",
    "         palette=['blue'] * 2, markeredgewidth=0, err_kws={'linewidth': 0})\n",
    "axs.set_xticks(np.linspace(700, 2700, 5))\n",
    "axs.set_xticklabels(np.linspace(1, 5, 5, dtype=int))\n",
    "\n",
    "custom_handles = [\n",
    "Line2D([0], [0], marker='o', color='blue', markerfacecolor='blue', label='untrained'),\n",
    "Line2D([0], [0], marker='o', color='red', markerfacecolor='red', label='trained')       \n",
    "            ]\n",
    "\n",
    "axs.legend(handles=custom_handles, loc='upper right', ncol=2)\n",
    "\n",
    "axs.set_title('Mean deviation')\n",
    "axs.set_ylabel('MD')\n",
    "axs.set_xlabel('day')"
   ],
   "outputs": [],
   "execution_count": null
  },
  {
   "cell_type": "markdown",
   "id": "ab2cff19-7497-446b-b4b8-cd2e0ed24bfd",
   "metadata": {},
   "source": [
    "# **Cross-correlation**"
   ]
  },
  {
   "cell_type": "markdown",
   "id": "c69ffc18-8f9c-45dc-a72e-57e451fcea1e",
   "metadata": {},
   "source": [
    "## **Average inter-finger lag for example chords**"
   ]
  },
  {
   "cell_type": "code",
   "id": "0234fa51-a567-4af3-b0bd-05d23547a34b",
   "metadata": {},
   "source": [
    "participant_id = gl.participants[experiment]\n",
    "chordID = 91211\n",
    "chord = 'trained'\n",
    "\n",
    "fig, axs = plt.subplots(1, 2, sharey=True)\n",
    "\n",
    "day = '1'\n",
    "fig, ax, _ = main('PLOT:xcorr_chord', experiment, participant_id=participant_id,chordID=chordID, chord=chord, day=day, fig=fig, axs=axs[0])\n",
    "ax.set_title('day 1')\n",
    "\n",
    "day = '5'\n",
    "fig, ax, cax = main('PLOT:xcorr_chord', experiment, participant_id=participant_id,chordID=chordID, chord=chord, day=day, fig=fig, axs=axs[1])\n",
    "ax.set_title('day 5')\n",
    "\n",
    "cbar = fig.colorbar(cax, ax=ax, orientation='horizontal', location='bottom', fraction=0.046)\n",
    "cbar.set_label('lag (s)')\n",
    "\n",
    "fig.suptitle(f'Average lag at maximum cross-correlation\\nbetween finger pairs (chord: {chordID}, {chord}, N={len(participant_id)})')"
   ],
   "outputs": [],
   "execution_count": null
  },
  {
   "cell_type": "code",
   "id": "5a19fa86-e188-4872-ae40-2b365134a52e",
   "metadata": {},
   "source": [
    "chordID = 21291\n",
    "chord = 'untrained'\n",
    "\n",
    "fig, axs = plt.subplots(1, 2, sharey=True)\n",
    "\n",
    "day = '1'\n",
    "fig, ax, _ = main('PLOT:xcorr_chord', experiment, participant_id=participant_id,chordID=chordID, chord=chord, day=day, fig=fig, axs=axs[0])\n",
    "ax.set_title('day 1')\n",
    "\n",
    "day = '5'\n",
    "fig, ax, cax = main('PLOT:xcorr_chord', experiment, participant_id=participant_id,chordID=chordID, chord=chord, day=day, fig=fig, axs=axs[1])\n",
    "ax.set_title('day 5')\n",
    "\n",
    "cbar = fig.colorbar(cax, ax=ax, orientation='horizontal', location='bottom', fraction=0.046)\n",
    "cbar.set_label('lag (s)')\n",
    "\n",
    "fig.suptitle(f'Average lag at maximum cross-correlation\\nbetween finger pairs (chord: {chordID}, {chord}, N={len(participant_id)})')"
   ],
   "outputs": [],
   "execution_count": null
  },
  {
   "cell_type": "markdown",
   "id": "8c14af25-d18d-4ad3-b4ce-d15525d6bd15",
   "metadata": {},
   "source": [
    "## **Inter-finger lag decreases during training**"
   ]
  },
  {
   "cell_type": "code",
   "id": "3b8a3f0f-5f73-4135-80aa-f6c69bb0d6d4",
   "metadata": {},
   "source": [
    "tau = pd.read_csv(os.path.join(gl.baseDir, experiment, 'tau.tsv'), sep='\\t')\n",
    "\n",
    "fig, axs = plt.subplots(figsize=(3, 5))\n",
    "\n",
    "# add dodge to day\n",
    "tau.loc[tau['chord'] == 'trained', 'dday'] = tau.loc[tau['chord'] == 'trained', 'day'].astype('float') + .05\n",
    "tau.loc[tau['chord'] == 'untrained', 'dday'] = tau.loc[tau['chord'] == 'untrained', 'day'].astype('float') - .05\n",
    "\n",
    "# plot tau\n",
    "sns.lineplot(data=tau, x='dday', y='tauAbs', hue='chord', marker='o', lw=3, ax=axs, err_kws={'linewidth': 0}, \n",
    "             markeredgecolor='none', palette=['red', 'blue'])\n",
    "\n",
    "tau_avg = tau.groupby(['dday', 'participant_id', 'chord', 'day'])['tauAbs'].mean().reset_index()\n",
    "\n",
    "\n",
    "# add significance\n",
    "y_max = add_significance_brackets(ax=axs, data=tau_avg[tau_avg['chord'] == 'untrained'], x='dday', y='tauAbs', pairs=[(.95, 4.95)],\n",
    "                          test_type='t-test_rel', text_format='star')\n",
    "add_significance_brackets(ax=axs, data=tau_avg[tau_avg['chord'] == 'trained'], x='dday', y='tauAbs', pairs=[(1.05, 5.05)],\n",
    "                          test_type='t-test_rel', text_format='star', y_max=y_max + .075 * y_max)\n",
    "add_significance_asterisks(ax=axs, data=tau_avg, x='day', y='tauAbs', x_point=5, hue='chord',\n",
    "                          test_type='t-test_rel', text_format='star')\n",
    "\n",
    "# cosmetics\n",
    "axs.set_ylabel('lag (s)', fontsize=12)\n",
    "axs.set_xlabel('day', fontsize=12)\n",
    "axs.legend(frameon=False, fontsize=12)\n",
    "decor(axs=axs, fontsize=12, ylim=(0, .49), spines_width=2, xbounds=(1, 5), ybounds=(0, .4))\n",
    "\n"
   ],
   "outputs": [],
   "execution_count": null
  },
  {
   "cell_type": "code",
   "id": "57481958-fbb7-4415-b26e-e1b552962538",
   "metadata": {},
   "source": [
    "experiment = 'efc2'\n",
    "tau = pd.read_csv(os.path.join(gl.baseDir, experiment, 'tau.tsv'), sep='\\t')\n",
    "chordIDs = tau['chordID'].unique()\n",
    "\n",
    "fig, axs = plt.subplots(1, 5, sharey=True, figsize=(12, 5))\n",
    "\n",
    "chordID = 91211\n",
    "for day in range(1, 6):\n",
    "    \n",
    "    tau_tmp = tau[(tau['chordID'] == chordID) & (tau['day'] == day)]\n",
    "    \n",
    "    chord = list(tau_tmp['chord'])\n",
    "    tau_tmp = tau_tmp.iloc[:, 8:]\n",
    "    \n",
    "    finger_combinations = tau_tmp.columns\n",
    "    unique_combinations = set(\n",
    "        '-'.join(sorted(combo.split('-'))) for combo in finger_combinations\n",
    "    )\n",
    "\n",
    "    tau_tmp = tau_tmp[list(unique_combinations)]\n",
    "    tau_tmp['chord'] = chord\n",
    "    \n",
    "    tau_tmp = tau_tmp.melt(var_name='finger', value_name='lag', id_vars='chord')\n",
    "    tau_tmp = tau_tmp.dropna()\n",
    "    \n",
    "    sns.barplot(ax=axs[day-1], data=tau_tmp, y='lag', x='finger', hue='chord', palette=['red', 'blue'])\n",
    "\n",
    "    axs[day-1].set_ylim([-.4, .4])\n",
    "    \n",
    "    axs[day-1].spines['bottom'].set_bounds(0, 5)\n",
    "    axs[day-1].spines['left'].set_bounds(-.4, .4)\n",
    "    axs[day-1].spines[['right', 'top', 'left']].set_visible(False)\n",
    "    axs[day-1].spines[['left', 'bottom']].set_linewidth(2)\n",
    "    axs[day-1].tick_params(axis='both', width=2)\n",
    "    axs[day-1].tick_params(axis='y', left=False)\n",
    "\n",
    "    axs[day-1].set_xlabel('')\n",
    "    axs[day-1].set_ylabel('lag (s)', fontsize=12)\n",
    "\n",
    "    axs[day-1].set_title(f'day {day}', fontsize=12)\n",
    "    \n",
    "    axs[day-1].set_xticklabels(axs[day-1].get_xticklabels(), rotation=45, ha='right', fontsize=12)\n",
    "\n",
    "    axs[day-1].legend().remove()\n",
    "\n",
    "axs[0].tick_params(axis='y', left=True)\n",
    "axs[0].spines['left'].set_visible(True)\n",
    "axs[0].set_yticklabels(axs[0].get_yticklabels(), fontsize=12)\n",
    "\n",
    "axs[-1].legend(frameon=False, loc='upper right', fontsize=12)\n",
    "\n",
    "fig.suptitle(f'chordID: {chordID}')\n",
    "\n",
    "fig.tight_layout()\n"
   ],
   "outputs": [],
   "execution_count": null
  },
  {
   "cell_type": "code",
   "id": "7c6771e5f8a5695e",
   "metadata": {
    "collapsed": false,
    "jupyter": {
     "outputs_hidden": false
    }
   },
   "source": [
    "experiment = 'efc2'\n",
    "\n",
    "corr = pd.read_csv(os.path.join(gl.baseDir, experiment, 'corr.tsv'), sep='\\t')\n",
    "noise_ceiling = pd.read_csv(os.path.join(gl.baseDir, experiment, 'corr_noise_ceiling.tsv'), sep='\\t')\n",
    "\n",
    "fig, axs = plt.subplots(figsize=(3, 5))\n",
    "\n",
    "sns.lineplot(data=corr, ax=axs, y='corr', x='day', hue='chord', palette=['red', 'blue'], marker='o', markeredgecolor='none', \n",
    "             lw=3, err_kws={'linewidth': 0})\n",
    "\n",
    "axs.axhline(noise_ceiling.mean()['corr'], color='grey', lw=3)\n",
    "axs.text(5, noise_ceiling.mean()['corr'], 'noise ceiling', color='grey', ha='right', va='bottom', fontsize=12)\n",
    "axs.set_ylabel('correlation', fontsize=12)\n",
    "axs.set_xlabel('day', fontsize=12)\n",
    "axs.legend(frameon=False, fontsize=12, loc='upper left')\n",
    "decor(axs=axs, fontsize=12, ylim=(.05, .27), spines_width=2, xbounds=(1, 5), ybounds=(.05, .25))"
   ],
   "outputs": [],
   "execution_count": null
  },
  {
   "cell_type": "markdown",
   "id": "7285707b-cb80-4d98-a368-446628627b81",
   "metadata": {},
   "source": [
    "## **Inter-finger lag is not consistent across trials**"
   ]
  },
  {
   "cell_type": "markdown",
   "id": "3977fff4-8eae-4ba6-9b70-009218cae845",
   "metadata": {},
   "source": [
    "If participants employed a consistent chunking or sequencing strategy to achieve the hand configurations required in the task, then the pattern of cross-correlation between fingers should remain stable across trials. To assess this, I calculated the average correlation between cross-correlation patterns observed in different trials on each day. As a comparison, I shuffled the lags measured between paired of fingers and calculated the correlation again using shuffled data (10 permutations). The average correlation between cross-correlation patterns is not significantly higher than the correlation measured using shuffled data. "
   ]
  },
  {
   "cell_type": "code",
   "id": "b5755fe7-e4c9-42ac-8bbd-77cb97436c6b",
   "metadata": {},
   "source": [
    "participant_id = gl.participants[experiment]\n",
    "\n"
   ],
   "outputs": [],
   "execution_count": null
  },
  {
   "cell_type": "markdown",
   "id": "dd8b7a58-7a55-4ae6-8215-16c368f1a217",
   "metadata": {},
   "source": [
    "# **Non-negative matrix factorization (NNMF)**"
   ]
  },
  {
   "cell_type": "markdown",
   "id": "9380f056-102b-411f-b49d-5569266dfe30",
   "metadata": {},
   "source": [
    "## **Dimensionality of chord and natural datasets**\n",
    "Non-negative Matrix Factorization (NNMF) decomposes EMG activity patterns by decomposing the EMG activity patterns into a set of non-negative basis vectors and corresponding activation coefficients. Basis vector can be interpreted as governing muscle activation:"
   ]
  },
  {
   "cell_type": "markdown",
   "id": "64191db8-c26e-48b6-8d3a-b231924e6685",
   "metadata": {},
   "source": [
    "$$\n",
    "\\mathbf{V} \\approx \\mathbf{W} \\mathbf{H}\n",
    "$$\n",
    "\n",
    "Where:\n",
    "- $\\mathbf{V} \\in \\mathbb{R}^{m \\times n}_+$ is the original non-negative matrix (e.g., EMG signals).\n",
    "- $\\mathbf{W} \\in \\mathbb{R}^{m \\times r}_+$ is the non-negative matrix of basis vectors (representing synergies).\n",
    "- $\\mathbf{H} \\in \\mathbb{R}^{r \\times n}_+$ is the non-negative matrix of activation coefficients.\n"
   ]
  },
  {
   "cell_type": "code",
   "id": "bb1cd944-3d3a-4cfa-a1bb-a8353c3dfe8f",
   "metadata": {},
   "source": [
    "experiment = 'efc1'\n",
    "participant_id = gl.participants[experiment]\n",
    "chords, natural = main('EMG:nnmf', experiment, participant_id)"
   ],
   "outputs": [],
   "execution_count": null
  },
  {
   "cell_type": "markdown",
   "id": "7b03f8b5-1d6a-443a-85aa-a25149dc5f95",
   "metadata": {},
   "source": [
    "I applied NNMF separately to the chords and natural dataset. Below it is shown the median number of synergies required to explain >90% of variance in each dataset:"
   ]
  },
  {
   "cell_type": "code",
   "id": "4bc98662-bb25-4fe6-8a6d-5c246af50aec",
   "metadata": {},
   "source": [
    "print(f'chords: {np.median(np.array(chords[\"k\"]))}, R²: {np.array(chords[\"r2\"]).mean()}\\nnatural: {np.median(np.array(natural[\"k\"]))}, R²: {np.array(natural[\"r2\"]).mean()}')"
   ],
   "outputs": [],
   "execution_count": null
  },
  {
   "cell_type": "markdown",
   "id": "fb53c29d-c6a3-4a6e-bdb8-08ddbaf6c0dc",
   "metadata": {},
   "source": [
    "## **Reconstruction of chord and natural datasets**\n",
    "I reconstructed the chord dataset using the synergies extracted from the natural dataset, and the natural dataset using the chords. To reconstruct the chord dataset using natural synergies, I first calculated the non-negative matrix of activation coefficients $H_{natural\\to chord}$ that minimizes the L2-norm:\n",
    "\n",
    "$$\n",
    "H_{natural\\to chord}=\\min_{\\mathbf{H} \\geq 0} \\|\\mathbf{V_{chord}} - \\mathbf{W_{natural}} \\mathbf{H_{natural\\to chord}} \\|_2^2\n",
    "$$\n",
    "\n",
    "Where:\n",
    "- $\\mathbf{V_{chord}} \\in \\mathbb{R}^{10 \\times 68}_+$ is the original chord dataset (10 channels, 68 chords).\n",
    "- $\\mathbf{W_{natural}} \\in \\mathbb{R}^{10 \\times r}_+$ are the $r$ synergies extracted from the natural dataset.\n",
    "- $\\mathbf{H_{natural\\to chord}} \\in \\mathbb{R}^{r \\times 68}_+$ is a non-negative matrix of activation coefficients.\n",
    "\n",
    "Similarly, to reconstruct the natural dataset from chords, I first found $H_{natural\\to chord}$ such that:\n",
    "\n",
    "$$\n",
    "H_{natural\\to chord} = \\min_{\\mathbf{H} \\geq 0} \\|\\mathbf{V_{natural}} - \\mathbf{V_{chord}} \\mathbf{H_{chord\\to natural}} \\|_2^2\n",
    "$$\n",
    "\n",
    "Where:\n",
    "- $\\mathbf{V_{natural}} \\in \\mathbb{R}^{10 \\times n}_+$ is the original natural dataset (10 channels, n timepoints).\n",
    "- $\\mathbf{V_{chord}} \\in \\mathbb{R}^{10 \\times 68}_+$ is the original chord dataset.\n",
    "- $\\mathbf{H_{chord\\to natural}} \\in \\mathbb{R}^{r \\times 68}_+$ is a non-negative matrix of activation coefficients.\n",
    "\n",
    "Then, I calculated:\n",
    "\n",
    "$$\n",
    "\\mathbf{\\hat{V_{chord}}} = \\mathbf{W_{natural}} \\mathbf{H_{natural\\to chord}}\n",
    "$$\n",
    "\n",
    "And:\n",
    "\n",
    "$$\n",
    "\\mathbf{\\hat{V_{natural}}} = \\mathbf{V_{chord}} \\mathbf{H_{chord\\to natural}}\n",
    "$$\n",
    "\n",
    "The figure below shows the $R^2$ as an index of the goodness of reconstruction. $R^2$ may be different between two reconstruction due to the different number of chords/syenrgies empolyed. To account for this, I also performed the two reconstruction using shuffled versions of $V_{chord}$ and $V_{natural}$ (dashed line in the figure). Finally, because EMG data are affected by measurament noise, perfect reconstruction is hardly achievable. To estimate the noise ceiling in the chord dataset, I first calculate the average pattern of EMG activation for each chord across participant $V_{chordAvg}$, then I calculated:\n",
    "\n",
    "$$\n",
    "B=\\min_{\\mathbf{H} \\geq 0} \\|\\mathbf{V_{chordAvg}} - \\mathbf{V_{chordParticipant}} \\mathbf{B} \\|_2^2\n",
    "$$\n",
    "\n",
    "Where $V_{chordParticipant}$ is the chord datatset recorded in a single participant. I then obtained:\n",
    "\n",
    "$$\n",
    "\\mathbf{\\hat{V_{chordAvg}}} = \\mathbf{V_{chordParticipant}} \\mathbf{B}\n",
    "$$\n",
    "\n",
    "And calculated $R^2$ in each participant. $R^2$ averaged across participant was taken as a measure of noise ceiling. In the natural dataset, each participant's data are divided into several partitions. Because during the task participants were freely exploring the natural workspace, estimating the noise ceiling cannot simply be done by predicting one partition using another one, or using the average activity in each partition. Therefore, to estimate the noise ceiling, I extracted the motor synergies from a given partitition using NNMF. Then, I estimated the activation coefficient for each synergy in another partition using the same non-negative optimization approach described above. Finally, I estimated the EMG pattern in the second partition and calculated $R^2$ to assess the goodness of reconstruction. The noise ceiling was estimate by averaging $R^2$ across partitions and participants."
   ]
  },
  {
   "cell_type": "code",
   "id": "c7a8d74e-0115-4563-ace1-d2fe9bcb8642",
   "metadata": {},
   "source": [
    "fig, axs = plt.subplots(figsize=(4, 5))\n",
    "fig, ax, pval = main('PLOT:recon_emg', experiment, participant_id, fig=fig, axs=axs)\n",
    "\n",
    "ax.set_xlim(-1.6, 2.6)\n",
    "ax.set_title('EMG reconstruction')\n",
    "ax.spines[['right', 'top']].set_visible(False)\n",
    "ax.set_xlabel('')\n",
    "ax.set_xticks([0, 1])\n",
    "ax.set_xticklabels(['natural from chords', 'chords from natural'], rotation=45, ha='right')\n",
    "\n",
    "print(pval)\n",
    "ax.text(0, .85, '*', color='dimgrey', va='center', ha='right')\n",
    "ax.text(0, .85, '*', color='k', va='center', ha='left')"
   ],
   "outputs": [],
   "execution_count": null
  },
  {
   "cell_type": "code",
   "id": "4221550f-199f-4bba-bf2e-2471499197b0",
   "metadata": {},
   "source": [],
   "outputs": [],
   "execution_count": null
  }
 ],
 "metadata": {
  "kernelspec": {
   "display_name": "Python 3 (ipykernel)",
   "language": "python",
   "name": "python3"
  },
  "language_info": {
   "codemirror_mode": {
    "name": "ipython",
    "version": 3
   },
   "file_extension": ".py",
   "mimetype": "text/x-python",
   "name": "python",
   "nbconvert_exporter": "python",
   "pygments_lexer": "ipython3",
   "version": "3.10.11"
  }
 },
 "nbformat": 4,
 "nbformat_minor": 5
}
