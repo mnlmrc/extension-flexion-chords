{
 "cells": [
  {
   "metadata": {},
   "cell_type": "code",
   "source": [
    "import pandas as pd\n",
    "import os\n",
    "import globals as gl\n",
    "import matplotlib.pyplot as plt\n",
    "\n",
    "import numpy as np\n",
    "\n",
    "from util import lowpass_fir, lowpass_butter\n",
    "\n",
    "plt.close('all')\n",
    "plt.style.use('default')"
   ],
   "id": "f8b6e713820eacfc",
   "outputs": [],
   "execution_count": null
  },
  {
   "metadata": {
    "jupyter": {
     "is_executing": true
    },
    "ExecuteTime": {
     "start_time": "2024-09-06T17:47:11.024346Z"
    }
   },
   "cell_type": "code",
   "source": [
    "from scipy.signal import decimate\n",
    "\n",
    "participant_id = 'subj100'\n",
    "experiment = 'efc3'\n",
    "\n",
    "natEMG = pd.read_csv(os.path.join(gl.baseDir, 'efc3', 'emgNatural', participant_id, 'Natural_raw.tsv'), sep='\\t', index_col=None)\n",
    "natEMG = natEMG.drop(natEMG.columns[0], axis=1)\n",
    "\n",
    "natEMG.drop('flx_D5', axis=1, inplace=True)\n",
    "\n",
    "cols = natEMG.columns\n",
    "\n",
    "natEMG = natEMG.to_numpy()\n",
    "natEMG = np.abs(natEMG).T\n",
    "\n",
    "norm = np.linalg.norm(natEMG, axis=0)\n",
    "\n",
    "print(f'lowpass filtering...')\n",
    "norm_lp = lowpass_butter(norm, cutoff=10, fsample=gl.fsample['emg'], axis=-1)\n",
    "\n",
    "fig, axs = plt.subplots(nrows=natEMG.shape[1], sharex=True, sharey=True, figsize=(6, 10))\n",
    "\n",
    "for a, ax in enumerate(axs):\n",
    "    \n",
    "    ax.plot(norm)\n",
    "    ax.plot(natEMG[a, :])\n",
    "    # ax.plot(natEMG_lp[a, :])\n",
    "    ax.set_title(cols)\n",
    "\n",
    "plt.tight_layout()\n"
   ],
   "id": "7ec184a3748ffb19",
   "outputs": [],
   "execution_count": null
  },
  {
   "metadata": {},
   "cell_type": "code",
   "source": "",
   "id": "a3de35f431600d1e",
   "outputs": [],
   "execution_count": null
  }
 ],
 "metadata": {
  "kernelspec": {
   "name": "python3",
   "language": "python",
   "display_name": "Python 3 (ipykernel)"
  }
 },
 "nbformat": 4,
 "nbformat_minor": 5
}
