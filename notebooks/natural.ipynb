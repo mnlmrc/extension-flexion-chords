{
 "cells": [
  {
   "metadata": {},
   "cell_type": "code",
   "source": [
    "import pandas as pd\n",
    "import os\n",
    "import globals as gl\n",
    "import matplotlib.pyplot as plt\n",
    "\n",
    "import numpy as np\n",
    "\n",
    "from util import lowpass_fir, lowpass_butter\n",
    "\n",
    "plt.close('all')\n",
    "plt.style.use('default')"
   ],
   "id": "f8b6e713820eacfc",
   "outputs": [],
   "execution_count": null
  },
  {
   "metadata": {
    "ExecuteTime": {
     "start_time": "2024-09-06T17:47:11.024346Z"
    }
   },
   "cell_type": "code",
   "source": [
    "from scipy.signal import decimate\n",
    "\n",
    "participant_id = 'subj100'\n",
    "experiment = 'efc3'\n",
    "\n",
    "natEMG = pd.read_csv(os.path.join(gl.baseDir, 'efc3', 'emgNatural', participant_id, 'Natural_raw.tsv'), sep='\\t', index_col=None)\n",
    "natEMG = natEMG.drop(natEMG.columns[0], axis=1)\n",
    "\n",
    "natEMG.drop('flx_D5', axis=1, inplace=True)\n",
    "\n",
    "cols = natEMG.columns\n",
    "\n",
    "natEMG = natEMG.to_numpy()\n",
    "natEMG = np.abs(natEMG).T\n",
    "\n",
    "norm = np.linalg.norm(natEMG, axis=0)\n",
    "\n",
    "print(f'lowpass filtering...')\n",
    "norm_lp = lowpass_butter(norm, cutoff=10, fsample=gl.fsample['emg'], axis=-1)\n",
    "\n",
    "fig, axs = plt.subplots(nrows=natEMG.shape[1], sharex=True, sharey=True, figsize=(6, 10))\n",
    "\n",
    "for a, ax in enumerate(axs):\n",
    "    \n",
    "    ax.plot(norm)\n",
    "    ax.plot(natEMG[a, :])\n",
    "    # ax.plot(natEMG_lp[a, :])\n",
    "    ax.set_title(cols)\n",
    "\n",
    "plt.tight_layout()\n"
   ],
   "id": "7ec184a3748ffb19",
   "outputs": [
    {
     "ename": "KeyboardInterrupt",
     "evalue": "",
     "output_type": "error",
     "traceback": [
      "\u001B[0;31m---------------------------------------------------------------------------\u001B[0m",
      "\u001B[0;31mKeyboardInterrupt\u001B[0m                         Traceback (most recent call last)",
      "Cell \u001B[0;32mIn[4], line 18\u001B[0m\n\u001B[1;32m     14\u001B[0m natEMG \u001B[38;5;241m=\u001B[39m np\u001B[38;5;241m.\u001B[39mabs(natEMG)\u001B[38;5;241m.\u001B[39mT\n\u001B[1;32m     16\u001B[0m norm \u001B[38;5;241m=\u001B[39m np\u001B[38;5;241m.\u001B[39mlinalg\u001B[38;5;241m.\u001B[39mnorm(natEMG, axis\u001B[38;5;241m=\u001B[39m\u001B[38;5;241m0\u001B[39m)\n\u001B[0;32m---> 18\u001B[0m \u001B[38;5;28;43mprint\u001B[39;49m(\u001B[38;5;124mf\u001B[39m\u001B[38;5;124m'\u001B[39m\u001B[38;5;124mlowpass filtering...\u001B[39m\u001B[38;5;124m'\u001B[39m)\n\u001B[1;32m     19\u001B[0m norm_lp \u001B[38;5;241m=\u001B[39m lowpass_butter(norm, cutoff\u001B[38;5;241m=\u001B[39m\u001B[38;5;241m10\u001B[39m, fsample\u001B[38;5;241m=\u001B[39mgl\u001B[38;5;241m.\u001B[39mfsample[\u001B[38;5;124m'\u001B[39m\u001B[38;5;124memg\u001B[39m\u001B[38;5;124m'\u001B[39m], axis\u001B[38;5;241m=\u001B[39m\u001B[38;5;241m-\u001B[39m\u001B[38;5;241m1\u001B[39m)\n\u001B[1;32m     21\u001B[0m fig, axs \u001B[38;5;241m=\u001B[39m plt\u001B[38;5;241m.\u001B[39msubplots(nrows\u001B[38;5;241m=\u001B[39mnatEMG\u001B[38;5;241m.\u001B[39mshape[\u001B[38;5;241m1\u001B[39m], sharex\u001B[38;5;241m=\u001B[39m\u001B[38;5;28;01mTrue\u001B[39;00m, sharey\u001B[38;5;241m=\u001B[39m\u001B[38;5;28;01mTrue\u001B[39;00m, figsize\u001B[38;5;241m=\u001B[39m(\u001B[38;5;241m6\u001B[39m, \u001B[38;5;241m10\u001B[39m))\n",
      "Cell \u001B[0;32mIn[4], line 18\u001B[0m\n\u001B[1;32m     14\u001B[0m natEMG \u001B[38;5;241m=\u001B[39m np\u001B[38;5;241m.\u001B[39mabs(natEMG)\u001B[38;5;241m.\u001B[39mT\n\u001B[1;32m     16\u001B[0m norm \u001B[38;5;241m=\u001B[39m np\u001B[38;5;241m.\u001B[39mlinalg\u001B[38;5;241m.\u001B[39mnorm(natEMG, axis\u001B[38;5;241m=\u001B[39m\u001B[38;5;241m0\u001B[39m)\n\u001B[0;32m---> 18\u001B[0m \u001B[38;5;28;43mprint\u001B[39;49m(\u001B[38;5;124mf\u001B[39m\u001B[38;5;124m'\u001B[39m\u001B[38;5;124mlowpass filtering...\u001B[39m\u001B[38;5;124m'\u001B[39m)\n\u001B[1;32m     19\u001B[0m norm_lp \u001B[38;5;241m=\u001B[39m lowpass_butter(norm, cutoff\u001B[38;5;241m=\u001B[39m\u001B[38;5;241m10\u001B[39m, fsample\u001B[38;5;241m=\u001B[39mgl\u001B[38;5;241m.\u001B[39mfsample[\u001B[38;5;124m'\u001B[39m\u001B[38;5;124memg\u001B[39m\u001B[38;5;124m'\u001B[39m], axis\u001B[38;5;241m=\u001B[39m\u001B[38;5;241m-\u001B[39m\u001B[38;5;241m1\u001B[39m)\n\u001B[1;32m     21\u001B[0m fig, axs \u001B[38;5;241m=\u001B[39m plt\u001B[38;5;241m.\u001B[39msubplots(nrows\u001B[38;5;241m=\u001B[39mnatEMG\u001B[38;5;241m.\u001B[39mshape[\u001B[38;5;241m1\u001B[39m], sharex\u001B[38;5;241m=\u001B[39m\u001B[38;5;28;01mTrue\u001B[39;00m, sharey\u001B[38;5;241m=\u001B[39m\u001B[38;5;28;01mTrue\u001B[39;00m, figsize\u001B[38;5;241m=\u001B[39m(\u001B[38;5;241m6\u001B[39m, \u001B[38;5;241m10\u001B[39m))\n",
      "File \u001B[0;32m_pydevd_bundle/pydevd_cython_darwin_310_64.pyx:1187\u001B[0m, in \u001B[0;36m_pydevd_bundle.pydevd_cython_darwin_310_64.SafeCallWrapper.__call__\u001B[0;34m()\u001B[0m\n",
      "File \u001B[0;32m_pydevd_bundle/pydevd_cython_darwin_310_64.pyx:627\u001B[0m, in \u001B[0;36m_pydevd_bundle.pydevd_cython_darwin_310_64.PyDBFrame.trace_dispatch\u001B[0;34m()\u001B[0m\n",
      "File \u001B[0;32m_pydevd_bundle/pydevd_cython_darwin_310_64.pyx:937\u001B[0m, in \u001B[0;36m_pydevd_bundle.pydevd_cython_darwin_310_64.PyDBFrame.trace_dispatch\u001B[0;34m()\u001B[0m\n",
      "File \u001B[0;32m_pydevd_bundle/pydevd_cython_darwin_310_64.pyx:928\u001B[0m, in \u001B[0;36m_pydevd_bundle.pydevd_cython_darwin_310_64.PyDBFrame.trace_dispatch\u001B[0;34m()\u001B[0m\n",
      "File \u001B[0;32m_pydevd_bundle/pydevd_cython_darwin_310_64.pyx:585\u001B[0m, in \u001B[0;36m_pydevd_bundle.pydevd_cython_darwin_310_64.PyDBFrame.do_wait_suspend\u001B[0;34m()\u001B[0m\n",
      "File \u001B[0;32m/Applications/PyCharm.app/Contents/plugins/python/helpers/pydev/pydevd.py:1201\u001B[0m, in \u001B[0;36mPyDB.do_wait_suspend\u001B[0;34m(self, thread, frame, event, arg, send_suspend_message, is_unhandled_exception)\u001B[0m\n\u001B[1;32m   1198\u001B[0m         from_this_thread\u001B[38;5;241m.\u001B[39mappend(frame_id)\n\u001B[1;32m   1200\u001B[0m \u001B[38;5;28;01mwith\u001B[39;00m \u001B[38;5;28mself\u001B[39m\u001B[38;5;241m.\u001B[39m_threads_suspended_single_notification\u001B[38;5;241m.\u001B[39mnotify_thread_suspended(thread_id, stop_reason):\n\u001B[0;32m-> 1201\u001B[0m     \u001B[38;5;28;43mself\u001B[39;49m\u001B[38;5;241;43m.\u001B[39;49m\u001B[43m_do_wait_suspend\u001B[49m\u001B[43m(\u001B[49m\u001B[43mthread\u001B[49m\u001B[43m,\u001B[49m\u001B[43m \u001B[49m\u001B[43mframe\u001B[49m\u001B[43m,\u001B[49m\u001B[43m \u001B[49m\u001B[43mevent\u001B[49m\u001B[43m,\u001B[49m\u001B[43m \u001B[49m\u001B[43marg\u001B[49m\u001B[43m,\u001B[49m\u001B[43m \u001B[49m\u001B[43msuspend_type\u001B[49m\u001B[43m,\u001B[49m\u001B[43m \u001B[49m\u001B[43mfrom_this_thread\u001B[49m\u001B[43m)\u001B[49m\n",
      "File \u001B[0;32m/Applications/PyCharm.app/Contents/plugins/python/helpers/pydev/pydevd.py:1216\u001B[0m, in \u001B[0;36mPyDB._do_wait_suspend\u001B[0;34m(self, thread, frame, event, arg, suspend_type, from_this_thread)\u001B[0m\n\u001B[1;32m   1213\u001B[0m             \u001B[38;5;28mself\u001B[39m\u001B[38;5;241m.\u001B[39m_call_mpl_hook()\n\u001B[1;32m   1215\u001B[0m         \u001B[38;5;28mself\u001B[39m\u001B[38;5;241m.\u001B[39mprocess_internal_commands()\n\u001B[0;32m-> 1216\u001B[0m         \u001B[43mtime\u001B[49m\u001B[38;5;241;43m.\u001B[39;49m\u001B[43msleep\u001B[49m\u001B[43m(\u001B[49m\u001B[38;5;241;43m0.01\u001B[39;49m\u001B[43m)\u001B[49m\n\u001B[1;32m   1218\u001B[0m \u001B[38;5;28mself\u001B[39m\u001B[38;5;241m.\u001B[39mcancel_async_evaluation(get_current_thread_id(thread), \u001B[38;5;28mstr\u001B[39m(\u001B[38;5;28mid\u001B[39m(frame)))\n\u001B[1;32m   1220\u001B[0m \u001B[38;5;66;03m# process any stepping instructions\u001B[39;00m\n",
      "\u001B[0;31mKeyboardInterrupt\u001B[0m: "
     ]
    }
   ],
   "execution_count": 4
  },
  {
   "metadata": {},
   "cell_type": "code",
   "source": "",
   "id": "a3de35f431600d1e",
   "outputs": [],
   "execution_count": null
  }
 ],
 "metadata": {
  "kernelspec": {
   "name": "python3",
   "language": "python",
   "display_name": "Python 3 (ipykernel)"
  }
 },
 "nbformat": 4,
 "nbformat_minor": 5
}
