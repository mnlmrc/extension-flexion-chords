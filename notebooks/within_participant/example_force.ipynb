{
 "cells": [
  {
   "cell_type": "code",
   "execution_count": null,
   "id": "initial_id",
   "metadata": {
    "collapsed": true
   },
   "outputs": [],
   "source": [
    "experiment = 'efc4'\n",
    "ch_idx = np.array(gl.diffCols[experiment])\n",
    "ntrial = 10\n",
    "sn = 101\n",
    "day = 4\n",
    "BN = 5\n",
    "\n",
    "pinfo = pd.read_csv(os.path.join(gl.baseDir, 'participants.tsv'), sep='\\t')\n",
    "trained = pinfo[pinfo.sn == sn].reset_index()['trained'][0].split('.')\n",
    "\n",
    "dat = pd.read_csv(os.path.join(gl.baseDir, 'behavioural', f'day{day}', f'{experiment}_{sn}.dat'), sep='\\t')\n",
    "dat = dat[dat['BN']==BN]\n",
    "filename = os.path.join(gl.baseDir, 'behavioural', f'day{day}',f'{experiment}_{sn}_{int(BN):02d}.mov')\n",
    "mov = load_mov(filename)\n",
    "mov = np.concatenate(mov, axis=0)\n",
    "mov = mov[mov[:, 1] == gl.wait_exec[experiment]]\n",
    "force_tmp = mov[mov[:, 0] == ntrial + 1][:, ch_idx] * gl.fGain\n",
    "force_filt = lowpass_fir(force_tmp, n_ord=4, cutoff=10, fsample=gl.fsample['force'], axis=0)\n",
    "force_der1 = np.gradient(force_filt, 1 / gl.fsample['force'], axis=0)\n",
    "\n",
    "print(dat[dat['TN'] == ntrial + 1][['chordID', 'trialPoint']])\n",
    "if dat.iloc[ntrial]['chordID'].astype(str) in trained:\n",
    "    print('trained')\n",
    "else:\n",
    "    print('untrained')\n",
    "\n",
    "fig, ax = plt.subplots()\n",
    "\n",
    "cmap = plt.get_cmap('Set2', 6)\n",
    "finger = ['thumb', 'index', 'middle', 'ring', 'pinkie']\n",
    "for f in range(5):\n",
    "    ax.plot(force_filt[:, f], color=cmap(f + 1), label=finger[f])\n",
    "\n",
    "ax.set_ylabel('force (N)')\n",
    "ax.legend()\n",
    "\n",
    "plt.show()\n"
   ]
  },
  {
   "metadata": {},
   "cell_type": "code",
   "outputs": [],
   "execution_count": null,
   "source": [
    "experiment = 'efc4'\n",
    "ch_idx = np.array(gl.diffCols[experiment])\n",
    "ntrial = 10\n",
    "sn = 101\n",
    "day = 24\n",
    "BN = 5\n",
    "\n",
    "pinfo = pd.read_csv(os.path.join(gl.baseDir, 'participants.tsv'), sep='\\t')\n",
    "trained = pinfo[pinfo.sn == sn].reset_index()['trained'][0].split('.')\n",
    "\n",
    "dat = pd.read_csv(os.path.join(gl.baseDir,  'behavioural', f'day{day}', f'{experiment}_{sn}.dat'), sep='\\t')\n",
    "dat = dat[dat['BN']==BN]\n",
    "filename = os.path.join(gl.baseDir, 'behavioural', f'day{day}',f'{experiment}_{sn}_{int(BN):02d}.mov')\n",
    "mov = load_mov(filename)\n",
    "mov = np.concatenate(mov, axis=0)\n",
    "mov = mov[mov[:, 1] == gl.wait_exec[experiment]]\n",
    "force_tmp = mov[mov[:, 0] == ntrial + 1][:, ch_idx] * gl.fGain\n",
    "force_filt = lowpass_fir(force_tmp, n_ord=4, cutoff=10, fsample=gl.fsample['force'], axis=0)\n",
    "force_der1 = np.gradient(force_filt, 1 / gl.fsample['force'], axis=0)\n",
    "\n",
    "print(dat[dat['TN'] == ntrial + 1][['chordID', 'trialPoint']])\n",
    "if dat.iloc[ntrial]['chordID'].astype(str) in trained:\n",
    "    print('trained')\n",
    "else:\n",
    "    print('untrained')\n",
    "\n",
    "fig, ax = plt.subplots()\n",
    "\n",
    "cmap = plt.get_cmap('Set2', 6)\n",
    "finger = ['thumb', 'index', 'middle', 'ring', 'pinkie']\n",
    "for f in range(5):\n",
    "    ax.plot(force_filt[:, f], color=cmap(f + 1), label=finger[f])\n",
    "\n",
    "ax.set_ylabel('force (N)')\n",
    "ax.legend(loc='best', ncol=5)\n",
    "\n",
    "plt.show()\n"
   ],
   "id": "71eebc6453fb5dea"
  }
 ],
 "metadata": {
  "kernelspec": {
   "display_name": "Python 3",
   "language": "python",
   "name": "python3"
  },
  "language_info": {
   "codemirror_mode": {
    "name": "ipython",
    "version": 2
   },
   "file_extension": ".py",
   "mimetype": "text/x-python",
   "name": "python",
   "nbconvert_exporter": "python",
   "pygments_lexer": "ipython2",
   "version": "2.7.6"
  }
 },
 "nbformat": 4,
 "nbformat_minor": 5
}
