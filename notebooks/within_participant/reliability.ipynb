{
 "cells": [
  {
   "metadata": {
    "ExecuteTime": {
     "end_time": "2025-04-16T23:17:39.820186Z",
     "start_time": "2025-04-16T23:17:39.814832Z"
    }
   },
   "cell_type": "code",
   "source": [
    "import nitools as nt\n",
    "import nibabel as nb\n",
    "from Functional_Fusion import reliability as rel\n",
    "import numpy as np\n",
    "import globals as gl\n",
    "import os\n",
    "import pandas as pd\n",
    "import matplotlib.pyplot as plt\n",
    "import seaborn as sns\n",
    "\n",
    "plt.style.use('default')"
   ],
   "id": "8bbb1da31744717d",
   "outputs": [],
   "execution_count": 7
  },
  {
   "cell_type": "code",
   "id": "initial_id",
   "metadata": {
    "collapsed": true,
    "ExecuteTime": {
     "end_time": "2025-04-16T23:18:01.787013Z",
     "start_time": "2025-04-16T23:17:39.910702Z"
    }
   },
   "source": [
    "# Define parameters\n",
    "experiment = 'efc4'\n",
    "glm = 1\n",
    "sn = 101\n",
    "atlas = 'ROI'\n",
    "\n",
    "# Storage for SNR values\n",
    "snr_dict = {\n",
    "    'ROI': [],\n",
    "    'Hemisphere': [],\n",
    "    'SNR': []\n",
    "}\n",
    "\n",
    "path_glm = os.path.join(gl.baseDir, experiment, f'{gl.glmDir}{glm}', f'subj{sn}')\n",
    "path_rois = os.path.join(gl.baseDir, experiment, gl.roiDir, f'subj{sn}')\n",
    "\n",
    "# Iterate through hemispheres and ROIs\n",
    "for H in ['L', 'R']:\n",
    "    for roi in gl.rois['ROI']:\n",
    "        beta_img = os.path.join(gl.baseDir, experiment,  f'glm{glm}', f'subj{sn}','beta.dscalar.nii')\n",
    "        res_img = os.path.join(gl.baseDir, experiment,  f'glm{glm}', f'subj{sn}','ResMS.nii')\n",
    "        mask = os.path.join(gl.baseDir, experiment, gl.roiDir, f'subj{sn}',f'{atlas}.{H}.{roi}.nii')\n",
    "\n",
    "        beta_cifti = nb.load(beta_img)\n",
    "        res_nifti = nb.load(res_img)\n",
    "\n",
    "        beta_nifti = nt.volume_from_cifti(beta_cifti, struct_names = ['CortexLeft', 'CortexRight'])\n",
    "        coords = nt.get_mask_coords(mask)\n",
    "\n",
    "        betas = nt.sample_image(beta_nifti, coords[0], coords[1], coords[2], interpolation=0).T\n",
    "\n",
    "        res = nt.sample_image(res_nifti, coords[0], coords[1], coords[2], interpolation=0)\n",
    "\n",
    "        betas_prewhitened = betas / np.sqrt(res)\n",
    "\n",
    "        betas_prewhitened = np.array(betas_prewhitened)\n",
    "        betas_prewhitened = betas_prewhitened[:, ~np.all(np.isnan(betas_prewhitened), axis=0)]\n",
    "\n",
    "        reginfo = np.char.split(beta_cifti.header.get_axis(0).name, sep='.')\n",
    "        conds = np.array([r[0] for r in reginfo][::2])\n",
    "        run = np.array([r[1] for r in reginfo][::2])\n",
    "\n",
    "        snr = rel.within_subj(betas_prewhitened[::2], conds, run,)\n",
    "        # snr_avg = snr.mean()\n",
    "        # snr_err = snr.std()\n",
    "\n",
    "        snr_dict['ROI'].append(roi)\n",
    "        snr_dict['Hemisphere'].append(H)\n",
    "        snr_dict['SNR'].append(snr[0])\n",
    "\n",
    "# Convert to DataFrame\n",
    "snr_df = pd.DataFrame(snr_dict)\n",
    "\n",
    "# Pivot Data for Faceted Plot\n",
    "fig, axs = plt.subplots()\n",
    "sns.barplot(data=snr_df, y='SNR', x='ROI', hue='Hemisphere', palette={'L': 'blue', 'R': 'red'},ax=axs, )\n",
    "\n",
    "# Formatting\n",
    "# axs.set_xlabel(\"region\")\n",
    "axs.axhline(0, color='k', lw=.8)\n",
    "axs.set_ylabel(\"SNR\")\n",
    "axs.set_title(f'SNR - glm{glm}, subj{sn}, day 3')\n",
    "axs.legend(title=\"Hemisphere\")\n",
    "plt.show()\n"
   ],
   "outputs": [
    {
     "data": {
      "text/plain": [
       "<Figure size 640x480 with 1 Axes>"
      ],
      "image/png": "[encoded data removed]"
     },
     "metadata": {},
     "output_type": "display_data"
    }
   ],
   "execution_count": 8
  },
  {
   "metadata": {
    "ExecuteTime": {
     "end_time": "2025-04-16T23:18:23.310625Z",
     "start_time": "2025-04-16T23:18:01.804266Z"
    }
   },
   "cell_type": "code",
   "source": [
    "# Define parameters\n",
    "experiment = 'efc4'\n",
    "glm = 1\n",
    "sn = 101\n",
    "atlas = 'ROI'\n",
    "H = 'L'\n",
    "\n",
    "# Storage for SNR values\n",
    "snr_dict = {\n",
    "    'ROI': [],\n",
    "    'Hemisphere': [],\n",
    "    'SNR': []\n",
    "}\n",
    "\n",
    "path_glm = os.path.join(gl.baseDir, experiment, f'{gl.glmDir}{glm}', f'subj{sn}')\n",
    "path_rois = os.path.join(gl.baseDir, experiment, gl.roiDir, f'subj{sn}')\n",
    "\n",
    "# Iterate through hemispheres and ROIs\n",
    "for H in ['L', 'R']:\n",
    "    for roi in gl.rois['ROI']:\n",
    "        beta_img = os.path.join(gl.baseDir, experiment,  f'glm{glm}', f'subj{sn}','beta.dscalar.nii')\n",
    "        res_img = os.path.join(gl.baseDir, experiment,  f'glm{glm}', f'subj{sn}','ResMS.nii')\n",
    "        mask = os.path.join(gl.baseDir, experiment, gl.roiDir, f'subj{sn}',f'{atlas}.{H}.{roi}.nii')\n",
    "\n",
    "        beta_cifti = nb.load(beta_img)\n",
    "        res_nifti = nb.load(res_img)\n",
    "\n",
    "        beta_nifti = nt.volume_from_cifti(beta_cifti, struct_names = ['CortexLeft', 'CortexRight'])\n",
    "        coords = nt.get_mask_coords(mask)\n",
    "\n",
    "        betas = nt.sample_image(beta_nifti, coords[0], coords[1], coords[2], interpolation=0).T\n",
    "\n",
    "        res = nt.sample_image(res_nifti, coords[0], coords[1], coords[2], interpolation=0)\n",
    "\n",
    "        betas_prewhitened = betas / np.sqrt(res)\n",
    "\n",
    "        betas_prewhitened = np.array(betas_prewhitened)\n",
    "        betas_prewhitened = betas_prewhitened[:, ~np.all(np.isnan(betas_prewhitened), axis=0)]\n",
    "\n",
    "        reginfo = np.char.split(beta_cifti.header.get_axis(0).name, sep='.')\n",
    "        conds = np.array([r[0] for r in reginfo][1::2])\n",
    "        run = np.array([r[1] for r in reginfo][1::2])\n",
    "\n",
    "        snr = rel.within_subj(betas_prewhitened[1::2], conds, run,)\n",
    "        # snr_avg = snr.mean()\n",
    "        # snr_err = snr.std()\n",
    "\n",
    "        snr_dict['ROI'].append(roi)\n",
    "        snr_dict['Hemisphere'].append(H)\n",
    "        snr_dict['SNR'].append(snr[0])\n",
    "\n",
    "# Convert to DataFrame\n",
    "snr_df = pd.DataFrame(snr_dict)\n",
    "\n",
    "# Pivot Data for Faceted Plot\n",
    "fig, axs = plt.subplots()\n",
    "sns.barplot(data=snr_df, y='SNR', x='ROI', hue='Hemisphere', palette={'L': 'blue', 'R': 'red'},ax=axs, )\n",
    "\n",
    "# Formatting\n",
    "# axs.set_xlabel(\"region\")\n",
    "axs.axhline(0, color='k', lw=.8)\n",
    "axs.set_ylabel(\"SNR\")\n",
    "axs.set_title(f'SNR - glm{glm}, subj{sn}, day 9')\n",
    "axs.legend(title=\"Hemisphere\")\n",
    "plt.show()"
   ],
   "id": "538da29ee98fd258",
   "outputs": [
    {
     "name": "stderr",
     "output_type": "stream",
     "text": [
      "Exception ignored in: <bound method IPythonKernel._clean_thread_parent_frames of <ipykernel.ipkernel.IPythonKernel object at 0x7f297b28ae90>>\n",
      "Traceback (most recent call last):\n",
      "  File \"/home/UWO/memanue5/Documents/GitHub/extension-flexion-chords/venv/lib/python3.10/site-packages/ipykernel/ipkernel.py\", line 775, in _clean_thread_parent_frames\n",
      "    def _clean_thread_parent_frames(\n",
      "KeyboardInterrupt: \n"
     ]
    },
    {
     "data": {
      "text/plain": [
       "<Figure size 640x480 with 1 Axes>"
      ],
      "image/png": "[encoded data removed]"
     },
     "metadata": {},
     "output_type": "display_data"
    }
   ],
   "execution_count": 9
  },
  {
   "metadata": {
    "jupyter": {
     "is_executing": true
    },
    "ExecuteTime": {
     "start_time": "2025-04-16T23:18:31.124170Z"
    }
   },
   "cell_type": "code",
   "source": [
    "# Define parameters\n",
    "experiment = 'efc4'\n",
    "glm = 1\n",
    "sn = 101\n",
    "atlas = 'ROI'\n",
    "\n",
    "# Storage for SNR values\n",
    "snr_dict = {\n",
    "    'ROI': [],\n",
    "    'Hemisphere': [],\n",
    "    'SNR': []\n",
    "}\n",
    "\n",
    "path_glm = os.path.join(gl.baseDir, experiment, f'{gl.glmDir}{glm}', f'subj{sn}')\n",
    "path_rois = os.path.join(gl.baseDir, experiment, gl.roiDir, f'subj{sn}')\n",
    "\n",
    "# Iterate through hemispheres and ROIs\n",
    "for H in ['L', 'R']:\n",
    "    for roi in gl.rois['ROI']:\n",
    "        beta_img = os.path.join(gl.baseDir, experiment,  f'glm{glm}', f'subj{sn}','beta.dscalar.nii')\n",
    "        res_img = os.path.join(gl.baseDir, experiment,  f'glm{glm}', f'subj{sn}','ResMS.nii')\n",
    "        mask = os.path.join(gl.baseDir, experiment, gl.roiDir, f'subj{sn}',f'{atlas}.{H}.{roi}.nii')\n",
    "\n",
    "        beta_cifti = nb.load(beta_img)\n",
    "        res_nifti = nb.load(res_img)\n",
    "\n",
    "        beta_nifti = nt.volume_from_cifti(beta_cifti, struct_names = ['CortexLeft', 'CortexRight'])\n",
    "        coords = nt.get_mask_coords(mask)\n",
    "\n",
    "        betas = nt.sample_image(beta_nifti, coords[0], coords[1], coords[2], interpolation=0).T\n",
    "\n",
    "        res = nt.sample_image(res_nifti, coords[0], coords[1], coords[2], interpolation=0)\n",
    "\n",
    "        betas_prewhitened = betas / np.sqrt(res)\n",
    "\n",
    "        betas_prewhitened = np.array(betas_prewhitened)\n",
    "        betas_prewhitened = betas_prewhitened[:, ~np.all(np.isnan(betas_prewhitened), axis=0)]\n",
    "\n",
    "        reginfo = np.char.split(beta_cifti.header.get_axis(0).name, sep='.')\n",
    "        conds = np.array([r[0].split(',')[0] for r in reginfo])\n",
    "        run = np.array([\n",
    "            int(r[1]) + 10 if 'day9' in r[0] else int(r[1])\n",
    "            for r in reginfo\n",
    "        ])\n",
    "\n",
    "        snr = rel.within_subj_loo(betas_prewhitened, conds, run, separate='none')\n",
    "        # snr_avg = snr.mean()\n",
    "        # snr_err = snr.std()\n",
    "\n",
    "        snr_dict['ROI'].append(roi)\n",
    "        snr_dict['Hemisphere'].append(H)\n",
    "        snr_dict['SNR'].append(snr[0])\n",
    "\n",
    "# Convert to DataFrame\n",
    "snr_df = pd.DataFrame(snr_dict)\n",
    "\n",
    "# Pivot Data for Faceted Plot\n",
    "fig, axs = plt.subplots()\n",
    "sns.barplot(data=snr_df, y='SNR', x='ROI', hue='Hemisphere', palette={'L': 'blue', 'R': 'red'},ax=axs, )\n",
    "\n",
    "# Formatting\n",
    "# axs.set_xlabel(\"region\")\n",
    "axs.axhline(0, color='k', lw=.8)\n",
    "axs.set_ylabel(\"SNR\")\n",
    "axs.set_title(f'SNR - glm{glm}, subj{sn}, day 3')\n",
    "axs.legend(title=\"Hemisphere\")\n",
    "plt.show()"
   ],
   "id": "fea531a82bda5fc5",
   "outputs": [],
   "execution_count": null
  },
  {
   "metadata": {},
   "cell_type": "code",
   "outputs": [],
   "execution_count": null,
   "source": "",
   "id": "21be87c45b778c5d"
  }
 ],
 "metadata": {
  "kernelspec": {
   "display_name": "Python 3",
   "language": "python",
   "name": "python3"
  },
  "language_info": {
   "codemirror_mode": {
    "name": "ipython",
    "version": 2
   },
   "file_extension": ".py",
   "mimetype": "text/x-python",
   "name": "python",
   "nbconvert_exporter": "python",
   "pygments_lexer": "ipython2",
   "version": "2.7.6"
  }
 },
 "nbformat": 4,
 "nbformat_minor": 5
}
